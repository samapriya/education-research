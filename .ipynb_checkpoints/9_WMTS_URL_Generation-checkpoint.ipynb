{
 "cells": [
  {
   "cell_type": "code",
   "execution_count": null,
   "metadata": {},
   "outputs": [],
   "source": [
    "import os\n",
    "import requests\n",
    "from planet.api.auth import find_api_key"
   ]
  },
  {
   "cell_type": "code",
   "execution_count": null,
   "metadata": {},
   "outputs": [],
   "source": [
    "tile_url = 'https://tiles0.planet.com/data/v1/layers'\n",
    "#Copy the list of scene IDs from the API dialog into the ids JSON\n",
    "data = {\n",
    "  \"ids\": [\n",
    "    \"PSScene4Band:20180326_190231_0d05, PSScene4Band:20180326_190231_1_0d05, PSScene4Band:20180326_190230_0d05, PSScene4Band:20180326_154223_1053, PSScene4Band:20180326_154222_1053\"\n",
    "  ]\n",
    "}\n",
    "api_key = find_api_key()"
   ]
  },
  {
   "cell_type": "code",
   "execution_count": null,
   "metadata": {},
   "outputs": [],
   "source": [
    "res = requests.post(tile_url, auth=(api_key, \"\"), data=data)\n",
    "print(res)\n",
    "name = res.json()[\"name\"]\n",
    "url = \"{}/wmts/{}?api_key={}\".format(tile_url,name, api_key)\n",
    "print(url)\n"
   ]
  },
  {
   "cell_type": "code",
   "execution_count": null,
   "metadata": {},
   "outputs": [],
   "source": []
  }
 ],
 "metadata": {
  "kernelspec": {
   "display_name": "Python 3",
   "language": "python",
   "name": "python3"
  },
  "language_info": {
   "codemirror_mode": {
    "name": "ipython",
    "version": 3
   },
   "file_extension": ".py",
   "mimetype": "text/x-python",
   "name": "python",
   "nbconvert_exporter": "python",
   "pygments_lexer": "ipython3",
   "version": "3.6.6"
  }
 },
 "nbformat": 4,
 "nbformat_minor": 4
}
