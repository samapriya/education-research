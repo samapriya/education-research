{
 "cells": [
  {
   "cell_type": "markdown",
   "metadata": {},
   "source": [
    "# Satellite Imagery query, parse and render\n",
    "The following notebook does a few things, it explores, how to query for images with the Google Earth Engine (GEE) Python API, filter using date ranges and metadata and adding image tiles to render from GEE."
   ]
  },
  {
   "cell_type": "code",
   "execution_count": 1,
   "metadata": {},
   "outputs": [],
   "source": [
    "import bqplot\n",
    "import datetime\n",
    "import dateutil.parser\n",
    "import ee\n",
    "import ipywidgets\n",
    "import ipyleaflet\n",
    "import IPython.display\n",
    "import numpy as np\n",
    "import pprint\n",
    "import pandas as pd\n",
    "import traitlets\n",
    "\n",
    "# Configure the pretty printing output & initialize earthengine.\n",
    "pp = pprint.PrettyPrinter(depth=4)\n",
    "ee.Initialize()"
   ]
  },
  {
   "cell_type": "code",
   "execution_count": 2,
   "metadata": {},
   "outputs": [],
   "source": [
    "# Function to get sizes in Human readable format\n",
    "suffixes = ['B', 'KB', 'MB', 'GB', 'TB', 'PB']\n",
    "def humansize(nbytes):\n",
    "    i = 0\n",
    "    while nbytes >= 1024 and i < len(suffixes)-1:\n",
    "        nbytes /= 1024.\n",
    "        i += 1\n",
    "    f = ('%.2f' % nbytes).rstrip('0').rstrip('.')\n",
    "    return '%s %s' % (f, suffixes[i])"
   ]
  },
  {
   "cell_type": "markdown",
   "metadata": {},
   "source": [
    "*While single images are great to do quick analytics, the true power of the Earth Engine environment comes with the possibility of looking at really large and heavy image collections. In GEE environment image collections have their own characteristic setup and are often composed of multiple single images. They often have the similar band structure and generally share a similar metadata structure for filtering and querying.*\n",
    "\n",
    "In this step we query an image collection and get the size and numbe of items in a collection. "
   ]
  },
  {
   "cell_type": "code",
   "execution_count": 3,
   "metadata": {},
   "outputs": [
    {
     "name": "stdout",
     "output_type": "stream",
     "text": [
      "Total number of LS-8 assets with filters: 10533\n",
      "Total number of PS assets with filters: 767\n",
      "\n",
      "Total size of LS-8 collection : 5.6 TB\n",
      "Total size of PS collection : 119.81 GB\n"
     ]
    }
   ],
   "source": [
    "#Public Image Collections\n",
    "l8sr = ee.ImageCollection('LANDSAT/LC08/C01/T1_SR').filterDate('2018-08-01','2018-12-01').filterMetadata('CLOUD_COVER','less_than',2)\n",
    "\n",
    "# Private Image Collection\n",
    "ps4bsr=ee.ImageCollection('projects/sat-io/open-ca/ps4bsr').filterDate('2018-08-01','2018-12-01')\n",
    "\n",
    "# Get collection size\n",
    "print('Total number of LS-8 assets with filters: '+str(l8sr.size().getInfo()))\n",
    "print('Total number of PS assets with filters: '+str(ps4bsr.size().getInfo()))\n",
    "print('\\n'+'Total size of LS-8 collection : '+str(humansize(l8sr.reduceColumns(ee.Reducer.sum(), ['system:asset_size']).getInfo()['sum'])))\n",
    "print('Total size of PS collection : '+str(humansize(ps4bsr.reduceColumns(ee.Reducer.sum(), ['system:asset_size']).getInfo()['sum'])))"
   ]
  },
  {
   "cell_type": "code",
   "execution_count": 4,
   "metadata": {},
   "outputs": [
    {
     "name": "stdout",
     "output_type": "stream",
     "text": [
      "{'bands': [{'crs': 'EPSG:32610',\n",
      "            'crs_transform': [3.0, 0.0, 597810.0, 0.0, -3.0, 4145118.0],\n",
      "            'data_type': {'max': 65535,\n",
      "                          'min': 0,\n",
      "                          'precision': 'int',\n",
      "                          'type': 'PixelType'},\n",
      "            'dimensions': [8918, 4383],\n",
      "            'id': 'b1'},\n",
      "           {'crs': 'EPSG:32610',\n",
      "            'crs_transform': [3.0, 0.0, 597810.0, 0.0, -3.0, 4145118.0],\n",
      "            'data_type': {'max': 65535,\n",
      "                          'min': 0,\n",
      "                          'precision': 'int',\n",
      "                          'type': 'PixelType'},\n",
      "            'dimensions': [8918, 4383],\n",
      "            'id': 'b2'},\n",
      "           {'crs': 'EPSG:32610',\n",
      "            'crs_transform': [3.0, 0.0, 597810.0, 0.0, -3.0, 4145118.0],\n",
      "            'data_type': {'max': 65535,\n",
      "                          'min': 0,\n",
      "                          'precision': 'int',\n",
      "                          'type': 'PixelType'},\n",
      "            'dimensions': [8918, 4383],\n",
      "            'id': 'b3'},\n",
      "           {'crs': 'EPSG:32610',\n",
      "            'crs_transform': [3.0, 0.0, 597810.0, 0.0, -3.0, 4145118.0],\n",
      "            'data_type': {'max': 65535,\n",
      "                          'min': 0,\n",
      "                          'precision': 'int',\n",
      "                          'type': 'PixelType'},\n",
      "            'dimensions': [8918, 4383],\n",
      "            'id': 'b4'}],\n",
      " 'id': 'projects/sat-io/open-ca/ps4bsr/20180802_182202_1033_3B_AnalyticMS_SR',\n",
      " 'properties': {'aerosol_Model': 'continental',\n",
      "                'aot_Status': 'Data Found',\n",
      "                'aot_coverage': 0.5,\n",
      "                'aot_mean_quality': 1.1875,\n",
      "                'aot_method': 'fixed',\n",
      "                'aot_source': 'mod09cma_nrt',\n",
      "                'aot_std': 0.0168,\n",
      "                'aot_used': 0.0236,\n",
      "                'atmospheric_correction_algorithm': '6Sv2.1',\n",
      "                'atmospheric_model': 'water_vapor_and_ozone',\n",
      "                'azimuth_angle': 12.3,\n",
      "                'cloud_cover': 0.0,\n",
      "                'epsg_code': 32610.0,\n",
      "                'gsd': 3.0,\n",
      "                'id_no': '20180802_182202_1033_3B_AnalyticMS_SR',\n",
      "                'incidence_angle': 0.439,\n",
      "                'instrument': 'PS2',\n",
      "                'luts_version': 3.0,\n",
      "                'number_of_bands': 4.0,\n",
      "                'number_of_columns': 8918.0,\n",
      "                'number_of_rows': 4383.0,\n",
      "                'orbit': 'LEO-SSO',\n",
      "                'product_type': 'L3B',\n",
      "                'provider': 'PlanetScope',\n",
      "                'resampling_kernel': 'CC',\n",
      "                'satellite_id': '1033',\n",
      "                'spacecraft_angle': 0.3757,\n",
      "                'sun_azimuth': 121.35,\n",
      "                'sun_elevation': 58.68,\n",
      "                'system:asset_size': 181165100,\n",
      "                'system:footprint': {'coordinates': [[...],\n",
      "                                                     [...],\n",
      "                                                     [...],\n",
      "                                                     [...],\n",
      "                                                     [...],\n",
      "                                                     [...],\n",
      "                                                     [...],\n",
      "                                                     [...],\n",
      "                                                     [...],\n",
      "                                                     [...],\n",
      "                                                     [...],\n",
      "                                                     [...],\n",
      "                                                     [...],\n",
      "                                                     [...],\n",
      "                                                     [...],\n",
      "                                                     [...],\n",
      "                                                     [...],\n",
      "                                                     [...],\n",
      "                                                     [...]],\n",
      "                                     'type': 'LinearRing'},\n",
      "                'system:index': '20180802_182202_1033_3B_AnalyticMS_SR',\n",
      "                'system:time_start': 1533182400000.0},\n",
      " 'type': 'Image',\n",
      " 'version': 1543077995639927}\n"
     ]
    },
    {
     "data": {
      "text/plain": [
       "['b1', 'b2', 'b3', 'b4']"
      ]
     },
     "execution_count": 4,
     "metadata": {},
     "output_type": "execute_result"
    }
   ],
   "source": [
    "# Get sample image from collection\n",
    "sample_image = ee.Image(ps4bsr.first())\n",
    "pp.pprint(sample_image.getInfo())\n",
    "band_names_original = sample_image.bandNames()\n",
    "band_names_original.getInfo()"
   ]
  },
  {
   "cell_type": "code",
   "execution_count": 5,
   "metadata": {},
   "outputs": [],
   "source": [
    "# Function to get tilelayer url from earthengine server\n",
    "def GetTileLayerUrl(ee_image_object):\n",
    "  map_id = ee.Image(ee_image_object).getMapId()\n",
    "  tile_url_template = \"https://earthengine.googleapis.com/map/{mapid}/{{z}}/{{x}}/{{y}}?token={token}\"\n",
    "  return tile_url_template.format(**map_id)"
   ]
  },
  {
   "cell_type": "code",
   "execution_count": 6,
   "metadata": {},
   "outputs": [
    {
     "data": {
      "application/vnd.jupyter.widget-view+json": {
       "model_id": "a5e96be5249a4ee989856320f103d63f",
       "version_major": 2,
       "version_minor": 0
      },
      "text/plain": [
       "Map(basemap={'url': 'https://{s}.tile.openstreetmap.org/{z}/{x}/{y}.png', 'max_zoom': 19, 'attribution': 'Map …"
      ]
     },
     "metadata": {},
     "output_type": "display_data"
    }
   ],
   "source": [
    "#Create a slider widget to add both Landsat 8 and PlanetScope 4B SR imagery\n",
    "map1 = ipyleaflet.Map(\n",
    "    center=(37.4112,-122.0634), zoom=12,\n",
    "    layout={'height':'500px'},\n",
    ")\n",
    "ps4bsr_tile_url=GetTileLayerUrl(ps4bsr.median().visualize(min=600, max=4000, bands=['b4', 'b3', 'b2']))\n",
    "l8sr_tile_url = GetTileLayerUrl(l8sr.median().visualize(min=100, max=3500, gamma=1.5, bands= ['B5', 'B3', 'B2']))  #Landsat 8 SR\n",
    "left = ipyleaflet.TileLayer(url=ps4bsr_tile_url)\n",
    "right=ipyleaflet.TileLayer(url=l8sr_tile_url)\n",
    "control = ipyleaflet.SplitMapControl(left_layer=left, right_layer=right)\n",
    "map1.add_control(control)\n",
    "map1"
   ]
  },
  {
   "cell_type": "markdown",
   "metadata": {},
   "source": [
    "# Calculate a Spectral Index (NDVI)"
   ]
  },
  {
   "cell_type": "markdown",
   "metadata": {},
   "source": [
    "The normalized difference vegetation index ($NDVI$) is a band ratio that is related to the amount of green vegetation. This formula is for the four band PlanetScope Surface Reflectance imagery.\n",
    "\n",
    "\\begin{equation*}\n",
    "NDVI = \\frac{NIR — RED}{NIR + RED} = \\frac{Band4 — Band3}{Band4 + Band3}\n",
    "\\end{equation*}\n",
    "\n",
    "where $NIR$ is the near infrared band and $RED$ is red band."
   ]
  },
  {
   "cell_type": "code",
   "execution_count": 7,
   "metadata": {},
   "outputs": [],
   "source": [
    "#Generate NDVI for PlanetScope SR\n",
    "img = ps4bsr.median()\n",
    "red = img.select(['b3']).rename('red')\n",
    "nir = img.select(['b4']).rename('nir')\n",
    "ndvi = (nir.subtract(red)).divide(nir.add(red)).rename('ndvi')"
   ]
  },
  {
   "cell_type": "code",
   "execution_count": 8,
   "metadata": {},
   "outputs": [
    {
     "data": {
      "application/vnd.jupyter.widget-view+json": {
       "model_id": "5457a94d2c364edf85aca13e00fe0baf",
       "version_major": 2,
       "version_minor": 0
      },
      "text/plain": [
       "Map(basemap={'url': 'https://{s}.tile.openstreetmap.org/{z}/{x}/{y}.png', 'max_zoom': 19, 'attribution': 'Map …"
      ]
     },
     "metadata": {},
     "output_type": "display_data"
    }
   ],
   "source": [
    "#Create a slider widget to add both Landsat 8 and PlanetScope 4B SR imagery\n",
    "map2 = ipyleaflet.Map(\n",
    "    center=(37.4112,-122.0634), zoom=12,\n",
    "    layout={'height':'500px'},\n",
    ")\n",
    "ps4bsr_tile_url=GetTileLayerUrl(ps4bsr.median().visualize(min=600, max=4000, bands=['b4', 'b3', 'b2']))\n",
    "ndvi_tile_url = GetTileLayerUrl(ndvi.visualize(bands=['ndvi'], min=-0.2, max=0.6, palette='grey,yellow,green'))  #Landsat 8 SR\n",
    "left = ipyleaflet.TileLayer(url=ps4bsr_tile_url)\n",
    "right=ipyleaflet.TileLayer(url=ndvi_tile_url)\n",
    "control = ipyleaflet.SplitMapControl(left_layer=left, right_layer=right)\n",
    "map2.add_control(control)\n",
    "map2"
   ]
  },
  {
   "cell_type": "markdown",
   "metadata": {},
   "source": [
    "## Summary"
   ]
  },
  {
   "cell_type": "markdown",
   "metadata": {},
   "source": [
    "We learned how to \n",
    "* Query an imagecollection using the Earth Engine API\n",
    "* Get the count and size of a collection\n",
    "* Adding a public dataset such as Landsat and Planet dataset under open california\n",
    "* Generate a Normalized Difference Vegetation Index (NDVI) for PlanetScope 4 Band Surface Reflectance image"
   ]
  }
 ],
 "metadata": {
  "kernelspec": {
   "display_name": "Python 3",
   "language": "python",
   "name": "python3"
  },
  "language_info": {
   "codemirror_mode": {
    "name": "ipython",
    "version": 3
   },
   "file_extension": ".py",
   "mimetype": "text/x-python",
   "name": "python",
   "nbconvert_exporter": "python",
   "pygments_lexer": "ipython3",
   "version": "3.6.6"
  }
 },
 "nbformat": 4,
 "nbformat_minor": 4
}
